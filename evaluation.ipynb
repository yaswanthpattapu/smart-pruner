{
 "cells": [
  {
   "cell_type": "code",
   "execution_count": null,
   "metadata": {},
   "outputs": [],
   "source": [
    "import torch.nn as nn\n",
    "\n",
    "from datasets import *\n",
    "from evaluation import *\n",
    "from models import *\n",
    "from pruning.unstructured import *\n",
    "from pruning.structured import *"
   ]
  },
  {
   "cell_type": "code",
   "execution_count": null,
   "metadata": {},
   "outputs": [],
   "source": [
    "# dataset = MNIST()\n",
    "dataset = CIFAR10()\n",
    "train_loader, test_loader = dataset.get_dataloader()"
   ]
  },
  {
   "cell_type": "code",
   "execution_count": null,
   "metadata": {},
   "outputs": [],
   "source": [
    "#train model and return it\n",
    "# model = Lenet()\n",
    "model = ResNet50_Cifar10()\n",
    "# model = AlexNet()\n",
    "criterion = nn.CrossEntropyLoss()\n",
    "optimizer = torch.optim.Adam(model.parameters(), lr=0.001)\n",
    "model = Trainer(model, 10, train_loader, criterion, optimizer)\n",
    "original_model = model.train()\n",
    "print(\"Accuracy of original model : \", accuracy(original_model, test_loader))"
   ]
  },
  {
   "cell_type": "code",
   "execution_count": null,
   "metadata": {},
   "outputs": [],
   "source": [
    "pruning_techniques = {\n",
    "    \"UnstucturedL1NormPruning\":UnstructuredL1normPrune(),\n",
    "    \"DecayPrune\":DecayPrune(),\n",
    "    \"DecayPruneReverse\":DecayPrune(reverse=True),\n",
    "    \"GlobalPrune\":GlobalPrune(),\n",
    "    \"LnStructuredPrune\":LnStructuredPrune(),\n",
    "    \"RandomUnstructured\":RandomUnstructured()\n",
    "    }\n",
    "# print(type(UnstructuredL1normPrune))\n",
    "compare_compression_ratio_vs_accuracy(original_model, dataset ,pruning_techniques)"
   ]
  },
  {
   "cell_type": "code",
   "execution_count": null,
   "metadata": {},
   "outputs": [],
   "source": []
  }
 ],
 "metadata": {
  "kernelspec": {
   "display_name": "Python 3",
   "language": "python",
   "name": "python3"
  },
  "language_info": {
   "codemirror_mode": {
    "name": "ipython",
    "version": 3
   },
   "file_extension": ".py",
   "mimetype": "text/x-python",
   "name": "python",
   "nbconvert_exporter": "python",
   "pygments_lexer": "ipython3",
   "version": "3.8.10"
  }
 },
 "nbformat": 4,
 "nbformat_minor": 2
}
