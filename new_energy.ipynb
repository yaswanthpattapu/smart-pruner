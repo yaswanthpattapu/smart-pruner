{
 "cells": [
  {
   "cell_type": "code",
   "execution_count": 1,
   "metadata": {},
   "outputs": [
    {
     "name": "stdout",
     "output_type": "stream",
     "text": [
      "Importing /raid/home/prabhasreddy/sysforml/Smart-pruner-dev/pruning/unstructured/L1norm.py\n",
      "Importing /raid/home/prabhasreddy/sysforml/Smart-pruner-dev/pruning/Train.py\n",
      "Importing /raid/home/prabhasreddy/sysforml/Smart-pruner-dev/pruning/unstructured/random.py\n",
      "Importing /raid/home/prabhasreddy/sysforml/Smart-pruner-dev/pruning/structured/decay_pruning.py\n",
      "Importing /raid/home/prabhasreddy/sysforml/Smart-pruner-dev/pruning/structured/two_to_four.py\n",
      "Importing /raid/home/prabhasreddy/sysforml/Smart-pruner-dev/pruning/structured/Thinet.py\n",
      "Importing /raid/home/prabhasreddy/sysforml/Smart-pruner-dev/pruning/structured/Global_pruning.py\n",
      "Importing /raid/home/prabhasreddy/sysforml/Smart-pruner-dev/pruning/structured/Ln_structured.py\n"
     ]
    }
   ],
   "source": [
    "import torch.nn as nn\n",
    "\n",
    "from datasets import *\n",
    "from evaluation import *\n",
    "from models import *\n",
    "from pruning.unstructured import *\n",
    "from pruning.structured import *\n",
    "from pyJoules.device.nvidia_device import NvidiaGPUDomain"
   ]
  },
  {
   "cell_type": "code",
   "execution_count": 2,
   "metadata": {},
   "outputs": [
    {
     "name": "stdout",
     "output_type": "stream",
     "text": [
      "Files already downloaded and verified\n",
      "Files already downloaded and verified\n"
     ]
    }
   ],
   "source": [
    "#dataset = MNIST()\n",
    "dataset = CIFAR10()\n",
    "train_loader, test_loader = dataset.get_dataloader()"
   ]
  },
  {
   "cell_type": "code",
   "execution_count": 3,
   "metadata": {},
   "outputs": [
    {
     "data": {
      "application/vnd.jupyter.widget-view+json": {
       "model_id": "9af3cd8b1ba7406190b72f35e2410774",
       "version_major": 2,
       "version_minor": 0
      },
      "text/plain": [
       "  0%|          | 0/10 [00:00<?, ?it/s]"
      ]
     },
     "metadata": {},
     "output_type": "display_data"
    },
    {
     "name": "stdout",
     "output_type": "stream",
     "text": [
      "Epoch: 1 | train_loss: 6.4586 | \n",
      "Epoch: 2 | train_loss: 6.1673 | \n",
      "Epoch: 3 | train_loss: 6.0003 | \n",
      "Epoch: 4 | train_loss: 5.8726 | \n",
      "Epoch: 5 | train_loss: 5.7446 | \n",
      "Epoch: 6 | train_loss: 5.6102 | \n",
      "Epoch: 7 | train_loss: 5.4903 | \n",
      "Epoch: 8 | train_loss: 5.3844 | \n",
      "Epoch: 9 | train_loss: 5.2497 | \n",
      "Epoch: 10 | train_loss: 5.1259 | \n"
     ]
    }
   ],
   "source": [
    "#train model and return it\n",
    "#model = Lenet()\n",
    "#model = ResNet50_Cifar10()\n",
    "model = AlexNet()\n",
    "criterion = nn.CrossEntropyLoss()\n",
    "optimizer = torch.optim.Adam(model.parameters(), lr=0.001)\n",
    "model = Trainer(model, 10, train_loader, criterion, optimizer)\n",
    "original_model = model.train()\n",
    "#print(\"Accuracy of original model : \", accuracy(original_model, test_loader))"
   ]
  },
  {
   "cell_type": "code",
   "execution_count": 4,
   "metadata": {},
   "outputs": [],
   "source": [
    "#for UnstructuredL1normPrune\n",
    "# model = Lenet()\n",
    "criterion = nn.CrossEntropyLoss()\n",
    "optimizer = torch.optim.Adam(original_model.parameters(), lr=0.001)\n",
    "\n",
    "#trainer = RandomUnstructured(original_model, 5, train_loader, criterion, optimizer, 0.5)\n",
    "trainer = RandomUnstructured(original_model, 10, train_loader, criterion, optimizer,0.5)\n",
    "\n",
    "#train and prune the model and return both the original and pruned model\n",
    "#original_model, pruned_model = trainer.train_prune_retrain()\n",
    "pruned_model = trainer.prune_model()"
   ]
  },
  {
   "cell_type": "code",
   "execution_count": 5,
   "metadata": {},
   "outputs": [
    {
     "name": "stdout",
     "output_type": "stream",
     "text": [
      "begin timestamp : 1713072849.446583; tag : accuracy; duration : 2.248340129852295; nvidia_gpu_7 : 166432\n",
      "Accuracy of original model :  [70.62]\n",
      "begin timestamp : 1713072851.6973245; tag : accuracy; duration : 2.0185494422912598; nvidia_gpu_7 : 126839\n",
      "Accuracy of pruned model :  [11.99]\n"
     ]
    }
   ],
   "source": [
    "print(\"Accuracy of original model : \", accuracy(original_model, test_loader))\n",
    "print(\"Accuracy of pruned model : \", accuracy(pruned_model, test_loader))"
   ]
  },
  {
   "cell_type": "code",
   "execution_count": 6,
   "metadata": {},
   "outputs": [],
   "source": [
    "%%bash --bg \n",
    "while true; do nvidia-smi -i 0 --format=csv,noheader,nounits --query-gpu=power.draw >> unpruned_output.txt; sleep 0.1; done"
   ]
  },
  {
   "cell_type": "code",
   "execution_count": 7,
   "metadata": {},
   "outputs": [
    {
     "name": "stdout",
     "output_type": "stream",
     "text": [
      "begin timestamp : 1713072853.927874; tag : accuracy; duration : 2.060861825942993; nvidia_gpu_7 : 129122\n",
      "Accuracy of original model :  [70.61]\n"
     ]
    }
   ],
   "source": [
    "print(\"Accuracy of original model : \", accuracy(original_model, test_loader))\n",
    "\n",
    "with open('unpruned_output.txt', 'a') as f:\n",
    "    f.write(\"\\energy computation for original model completed.\\n\")"
   ]
  },
  {
   "cell_type": "code",
   "execution_count": 8,
   "metadata": {},
   "outputs": [],
   "source": [
    "%%bash\n",
    "pgrep -f \"watch -n 1 'nvidia-smi -i 0 --format=csv,noheader,nounits --query-gpu=power.draw >> unpruned_output.txt'\" | xargs -r kill"
   ]
  },
  {
   "cell_type": "code",
   "execution_count": 9,
   "metadata": {},
   "outputs": [],
   "source": [
    "%%bash --bg \n",
    "while true; do nvidia-smi -i 0 --format=csv,noheader,nounits --query-gpu=power.draw >> pruned_output.txt; sleep 0.1; done"
   ]
  },
  {
   "cell_type": "code",
   "execution_count": 10,
   "metadata": {},
   "outputs": [
    {
     "name": "stdout",
     "output_type": "stream",
     "text": [
      "begin timestamp : 1713072856.3752003; tag : accuracy; duration : 2.0146594047546387; nvidia_gpu_7 : 125811\n",
      "Accuracy of pruned model :  [12.16]\n"
     ]
    }
   ],
   "source": [
    "print(\"Accuracy of pruned model : \", accuracy(pruned_model, test_loader))\n",
    "\n",
    "with open('pruned_output.txt', 'a') as f:\n",
    "    f.write(\"\\energy computation for pruned model completed.\\n\")"
   ]
  },
  {
   "cell_type": "code",
   "execution_count": 11,
   "metadata": {},
   "outputs": [],
   "source": [
    "%%bash\n",
    "pgrep -f \"watch -n 1 'nvidia-smi -i 0 --format=csv,noheader,nounits --query-gpu=power.draw >> pruned_output.txt'\" | xargs -r kill"
   ]
  },
  {
   "cell_type": "code",
   "execution_count": 12,
   "metadata": {},
   "outputs": [],
   "source": [
    "# total = 0\n",
    "# count=0\n",
    "# with open('unpruned_output.txt', 'r') as f:\n",
    "#     for line in f:\n",
    "#         if '\\\\energy' in line:\n",
    "#             break\n",
    "#         total += float(line.strip())\n",
    "#         count += 1\n",
    "\n",
    "# average = total / count if count else 0\n",
    "# print(average)\n",
    "\n"
   ]
  },
  {
   "cell_type": "code",
   "execution_count": null,
   "metadata": {},
   "outputs": [],
   "source": [
    "# total = 0\n",
    "# count=0\n",
    "# with open('pruned_output.txt', 'r') as f:\n",
    "#     for line in f:\n",
    "#         if '\\\\energy' in line:\n",
    "#             break\n",
    "#         total += float(line.strip())\n",
    "#         count += 1\n",
    "\n",
    "# average = total / count if count else 0\n",
    "# print(average)\n",
    "\n"
   ]
  }
 ],
 "metadata": {
  "kernelspec": {
   "display_name": "Python 3",
   "language": "python",
   "name": "python3"
  },
  "language_info": {
   "codemirror_mode": {
    "name": "ipython",
    "version": 3
   },
   "file_extension": ".py",
   "mimetype": "text/x-python",
   "name": "python",
   "nbconvert_exporter": "python",
   "pygments_lexer": "ipython3",
   "version": "3.8.10"
  }
 },
 "nbformat": 4,
 "nbformat_minor": 2
}
